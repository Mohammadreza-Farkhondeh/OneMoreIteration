{
 "cells": [
  {
   "cell_type": "code",
   "execution_count": null,
   "metadata": {},
   "outputs": [],
   "source": [
    "import numpy as np"
   ]
  },
  {
   "cell_type": "code",
   "execution_count": null,
   "metadata": {},
   "outputs": [],
   "source": [
    "class LogisticRegression:\n",
    "  def __init__(self, learning_rate=0.01, num_iters=1000):\n",
    "    self.learning_rate = learning_rate\n",
    "    self.num_iters = num_iters\n",
    "    self.weights = None\n",
    "\n",
    "  def sigmoid(self, z):\n",
    "    return 1 / (1 + np.exp(-z))\n",
    "\n",
    "  def fit(self, X, y):\n",
    "    X_with_bias = np.c_[np.ones(X.shape[0]), X]\n",
    "    self.weights = np.zeros(X_with_bias.shape[1])\n",
    "\n",
    "    for _ in range(self.num_iters):\n",
    "      z = np.dot(X_with_bias, self.weights)\n",
    "      predicted_y = self.sigmoid(z)\n",
    "\n",
    "      errors = predicted_y - y\n",
    "\n",
    "      # Update weights using gradient descent with a detailed explanation\n",
    "      # Similar to linear regression, we calculate the gradient of the cost function\n",
    "      # (logistic loss in this case) with respect to the weights.\n",
    "\n",
    "      # Gradient of logistic loss w.r.t. weights:\n",
    "      # X_with_bias.T * (predicted_y - y)\n",
    "\n",
    "      # Update weights based on the gradient and the learning rate\n",
    "      self.weights -= self.learning_rate * np.dot(X_with_bias.T, (predicted_y - y))\n",
    "\n",
    "  def predict(self, X):\n",
    "    X_with_bias = np.c_[np.ones(X.shape[0]), X]\n",
    "    z = np.dot(X_with_bias, self.weights)\n",
    "    return self.sigmoid(z)"
   ]
  }
 ],
 "metadata": {
  "language_info": {
   "name": "python"
  }
 },
 "nbformat": 4,
 "nbformat_minor": 2
}
