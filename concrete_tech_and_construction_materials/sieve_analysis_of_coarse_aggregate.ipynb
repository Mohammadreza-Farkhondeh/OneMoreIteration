{
 "cells": [
  {
   "cell_type": "markdown",
   "metadata": {},
   "source": [
    "# SIEVE ANALYSIS OF FINE AND COARSE AGGREGATES"
   ]
  },
  {
   "cell_type": "markdown",
   "metadata": {},
   "source": [
    "## Introduction"
   ]
  },
  {
   "cell_type": "markdown",
   "metadata": {},
   "source": [
    "## Procedure"
   ]
  },
  {
   "cell_type": "code",
   "execution_count": null,
   "metadata": {},
   "outputs": [],
   "source": [
    "import pandas as pd\n",
    "import matplotlib.pyplot as plt"
   ]
  },
  {
   "cell_type": "markdown",
   "metadata": {},
   "source": [
    "### 1. Data preparation"
   ]
  },
  {
   "cell_type": "code",
   "execution_count": null,
   "metadata": {},
   "outputs": [],
   "source": [
    "coarse_aggregate = {\n",
    "    \"Sieve size\": [\"25.4mm\", \"19.0mm\", \"16.0mm\", \"12.7mm\", \"9.51mm\", \"4.76mm\", \"Pan\", \"total\"],\n",
    "    \"Amount Retained 1 (g)\": [0, 0, 0, 0, 0, 1440, 62, 1500],\n",
    "    \"Amount Retained 2 (g)\": [0, 0, 0, 1137, 317, 32, 4, 1490],\n",
    "    \"Average (g)\": None,\n",
    "    \"Cumulative Amount Retained (g)\": None,\n",
    "    \"Cumulative % Retained\": None,\n",
    "    \"% Passing\": None\n",
    "}\n",
    "\n",
    "fine_aggregate = {\n",
    "    \"Sieve size\": [\"4.75mm\", \"2.38mm\", \"1.19mm\", \"0.595mm\", \"0.297mm\", \"0.149mm\", \"Pan\", \"total\"],\n",
    "    \"Amount Retained 1 (g)\": [96, 604, 159, 115, 107, 23, 6, 1110],\n",
    "    \"Amount Retained 2 (g)\": [98, 604, 160, 210, 11, 22, 6, 1114],\n",
    "    \"Average (g)\": None,\n",
    "    \"Cumulative Amount Retained (g)\": None,\n",
    "    \"Cumulative % Retained\": None,\n",
    "    \"% Passing\": None\n",
    "}"
   ]
  },
  {
   "cell_type": "markdown",
   "metadata": {},
   "source": [
    "### 2. Calculation and analysis functions"
   ]
  },
  {
   "cell_type": "code",
   "execution_count": null,
   "metadata": {},
   "outputs": [],
   "source": [
    "total_weight = sum(coarse_aggregate[\"Amount Retained 1 (g)\"]) + sum(coarse_aggregate[\"Amount Retained 2 (g)\"])\n",
    "\n",
    "for i in range(len(coarse_aggregate[\"Sieve size\"])):\n",
    "    coarse_aggregate[\"Average (g)\"][i] = (coarse_aggregate[\"Amount Retained 1 (g)\"][i] + coarse_aggregate[\"Amount Retained 2 (g)\"][i]) / 2\n",
    "    if i == 0:\n",
    "        coarse_aggregate[\"Cumulative Amount Retained (g)\"][i] = coarse_aggregate[\"Average (g)\"][i]\n",
    "    else:\n",
    "        coarse_aggregate[\"Cumulative Amount Retained (g)\"][i] = coarse_aggregate[\"Cumulative Amount Retained (g)\"][i-1] + coarse_aggregate[\"Average (g)\"][i]\n",
    "    coarse_aggregate[\"Cumulative % Retained\"][i] = (coarse_aggregate[\"Cumulative Amount Retained (g)\"][i] / total_weight) * 100\n",
    "    coarse_aggregate[\"% Passing\"][i] = 100 - coarse_aggregate[\"Cumulative % Retained\"][i]\n",
    "\n",
    "print(\"Processed Table 1:\")\n",
    "print(pd.DataFrame(coarse_aggregate))\n"
   ]
  },
  {
   "cell_type": "code",
   "execution_count": null,
   "metadata": {},
   "outputs": [],
   "source": [
    "total_weight = sum(fine_aggregate[\"Amount Retained 1 (g)\"]) + sum(fine_aggregate[\"Amount Retained 2 (g)\"])\n",
    "\n",
    "for i in range(len(fine_aggregate[\"Sieve size\"])):\n",
    "    fine_aggregate[\"Average (g)\"][i] = (fine_aggregate[\"Amount Retained 1 (g)\"][i] + fine_aggregate[\"Amount Retained 2 (g)\"][i]) / 2\n",
    "    if i == 0:\n",
    "        fine_aggregate[\"Cumulative Amount Retained (g)\"][i] = fine_aggregate[\"Average (g)\"][i]\n",
    "    else:\n",
    "        fine_aggregate[\"Cumulative Amount Retained (g)\"][i] = fine_aggregate[\"Cumulative Amount Retained (g)\"][i-1] + fine_aggregate[\"Average (g)\"][i]\n",
    "    fine_aggregate[\"Cumulative % Retained\"][i] = (fine_aggregate[\"Cumulative Amount Retained (g)\"][i] / total_weight) * 100\n",
    "    fine_aggregate[\"% Passing\"][i] = 100 - fine_aggregate[\"Cumulative % Retained\"][i]\n",
    "\n",
    "print(\"Processed Table 2:\")\n",
    "print(pd.DataFrame(fine_aggregate))"
   ]
  },
  {
   "cell_type": "markdown",
   "metadata": {},
   "source": [
    "### 3. Visualization functions"
   ]
  },
  {
   "cell_type": "code",
   "execution_count": null,
   "metadata": {},
   "outputs": [],
   "source": [
    "plt.figure(figsize=(10, 6))\n",
    "\n",
    "plt.plot(fine_aggregate[\"Sieve size\"], fine_aggregate[\"Cumulative % Retained\"], label=\"% Retained\")\n",
    "\n",
    "plt.xscale(\"log\")\n",
    "plt.xlabel(\"Sieve Size (mm)\")\n",
    "plt.ylabel(\"Cumulative % Retained\")\n",
    "plt.title(\"Gradation Curve of Fine Aggregate\")\n",
    "plt.grid(True)\n",
    "plt.legend()\n",
    "\n",
    "plt.show()\n"
   ]
  },
  {
   "cell_type": "code",
   "execution_count": null,
   "metadata": {},
   "outputs": [],
   "source": [
    "plt.figure(figsize=(10, 6))\n",
    "\n",
    "plt.plot(fine_aggregate[\"Sieve size\"], fine_aggregate[\"% Passing\"], label=\"% Passing\")\n",
    "\n",
    "plt.xscale(\"log\")\n",
    "plt.xlabel(\"Sieve Size (mm)\")\n",
    "plt.ylabel(\"% Passing\")\n",
    "plt.title(\"Gradation Curve of Fine Aggregate\")\n",
    "plt.grid(True)\n",
    "plt.legend()\n",
    "\n",
    "plt.show()"
   ]
  },
  {
   "cell_type": "code",
   "execution_count": null,
   "metadata": {},
   "outputs": [],
   "source": [
    "plt.figure(figsize=(10, 6))\n",
    "\n",
    "plt.plot(coarse_aggregate[\"Sieve size\"], coarse_aggregate[\"Cumulative % Retained\"], label=\"Coarse Aggregate\", marker=\"o\")\n",
    "plt.plot(fine_aggregate[\"Sieve size\"], fine_aggregate[\"Cumulative % Retained\"], label=\"Fine Aggregate\", marker=\"s\")\n",
    "\n",
    "plt.xscale(\"log\")\n",
    "plt.xlabel(\"Sieve Size (mm)\")\n",
    "plt.ylabel(\"Cumulative % Retained\")\n",
    "plt.title(\"Gradation Curve for Coarse and Fine Aggregates\")\n",
    "plt.grid(True)\n",
    "plt.legend()\n",
    "\n",
    "plt.show()"
   ]
  }
 ],
 "metadata": {
  "kernelspec": {
   "display_name": ".venv",
   "language": "python",
   "name": "python3"
  },
  "language_info": {
   "codemirror_mode": {
    "name": "ipython",
    "version": 3
   },
   "file_extension": ".py",
   "mimetype": "text/x-python",
   "name": "python",
   "nbconvert_exporter": "python",
   "pygments_lexer": "ipython3",
   "version": "3.10.12"
  }
 },
 "nbformat": 4,
 "nbformat_minor": 2
}
